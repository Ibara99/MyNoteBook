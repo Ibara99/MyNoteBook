{
 "cells": [
  {
   "cell_type": "markdown",
   "metadata": {},
   "source": [
    "# Dicoding Aplikasi Kognitif"
   ]
  },
  {
   "cell_type": "markdown",
   "metadata": {},
   "source": [
    "## Speech to Text"
   ]
  },
  {
   "cell_type": "code",
   "execution_count": 32,
   "metadata": {},
   "outputs": [
    {
     "name": "stdout",
     "output_type": "stream",
     "text": [
      "{\n",
      "  \"results\": [\n",
      "    {\n",
      "      \"alternatives\": [\n",
      "        {\n",
      "          \"confidence\": 0.92,\n",
      "          \"transcript\": \"several tornadoes touched down as a line of severe thunderstorms swept through Colorado on Sunday \"\n",
      "        }\n",
      "      ],\n",
      "      \"final\": true\n",
      "    }\n",
      "  ],\n",
      "  \"result_index\": 0\n",
      "}\n"
     ]
    }
   ],
   "source": [
    "# source : https://www.geeksforgeeks.org/speech-to-text-using-ibm-watson-studio/\n",
    "#Python Program To Use IBM Watson \n",
    "# Studio's Speech To Text Below Code \n",
    "# Accepts only .mp3 Format of Audio \n",
    "# File \n",
    "\n",
    "\n",
    "import json \n",
    "from os.path import join, dirname \n",
    "from ibm_watson import SpeechToTextV1 \n",
    "from ibm_watson.websocket import RecognizeCallback, AudioSource \n",
    "from ibm_cloud_sdk_core.authenticators import IAMAuthenticator \n",
    "\n",
    "apikey = 'dBaRhx_MIen8fL0oisJtzBSl_Y0aCxl1WSUYIZhVlNBP'\n",
    "url_s2t = 'https://api.eu-gb.speech-to-text.watson.cloud.ibm.com/instances/9e5f9ca3-738a-4d20-9b23-e2a0e97966b7'\n",
    "\n",
    "# Insert API Key in place of \n",
    "# 'YOUR UNIQUE API KEY' \n",
    "authenticator = IAMAuthenticator(apikey) \n",
    "service = SpeechToTextV1(authenticator = authenticator) \n",
    "\n",
    "#Insert URL in place of 'API_URL' \n",
    "service.set_service_url(url_s2t) \n",
    "\n",
    "# Insert local mp3 file path in \n",
    "# place of 'LOCAL FILE PATH' \n",
    "with open(join(dirname('__file__'), r'./audio-file.flac'), 'rb') as audio_file: \n",
    "    dic = json.loads( \n",
    "        json.dumps( \n",
    "            service.recognize( \n",
    "                audio=audio_file, \n",
    "                content_type='audio/flac', \n",
    "                model='en-US_NarrowbandModel', \n",
    "                continuous=True).get_result(), indent=2)) \n",
    "'''\n",
    "# Stores the transcribed text \n",
    "str = \"\" \n",
    "\n",
    "while bool(dic.get('results')): \n",
    "    str = dic.get('results').pop().get('alternatives').pop().get('transcript')+str[:] \n",
    "'''\n",
    "print(json.dumps(dic, indent=2))\n"
   ]
  },
  {
   "cell_type": "markdown",
   "metadata": {},
   "source": [
    "## Text to Speech"
   ]
  },
  {
   "cell_type": "code",
   "execution_count": 33,
   "metadata": {},
   "outputs": [],
   "source": [
    "import ibm_watson"
   ]
  },
  {
   "cell_type": "code",
   "execution_count": 34,
   "metadata": {},
   "outputs": [],
   "source": [
    "#source : https://cloud.ibm.com/apidocs/text-to-speech/text-to-speech?code=python\n",
    "\n",
    "apikey_t2s = '7IJXGflH-Wkc21kEkB6PJ6nB9XOUF7iulPC_Bk-Qq-iF'\n",
    "url_t2s = 'https://api.eu-gb.text-to-speech.watson.cloud.ibm.com/instances/74859873-b482-4579-ae8d-3b347c195e6f'\n",
    "\n",
    "authenticator = IAMAuthenticator(apikey_t2s) \n",
    "service = ibm_watson.TextToSpeechV1(authenticator = authenticator)\n",
    "service.set_service_url(f'{url_t2s}')\n",
    "\n",
    "'''\n",
    "Check every possible voices\n",
    "voices = service.list_voices().get_result()\n",
    "print(json.dumps(voices, indent=2))\n",
    "'''\n",
    "\n",
    "with open('hello_world.wav', 'wb') as audio_file:\n",
    "    audio_file.write(\n",
    "        service.synthesize(\n",
    "            'Hello world',\n",
    "            voice='en-US_AllisonVoice',\n",
    "            accept='audio/wav'        \n",
    "        ).get_result().content)\n",
    "#Ada file baru di directory"
   ]
  },
  {
   "cell_type": "markdown",
   "metadata": {},
   "source": [
    "## Tone Analyzer"
   ]
  },
  {
   "cell_type": "code",
   "execution_count": 38,
   "metadata": {},
   "outputs": [
    {
     "name": "stdout",
     "output_type": "stream",
     "text": [
      "{\n",
      "  \"document_tone\": {\n",
      "    \"tones\": [\n",
      "      {\n",
      "        \"score\": 0.6165,\n",
      "        \"tone_id\": \"sadness\",\n",
      "        \"tone_name\": \"Sadness\"\n",
      "      },\n",
      "      {\n",
      "        \"score\": 0.829888,\n",
      "        \"tone_id\": \"analytical\",\n",
      "        \"tone_name\": \"Analytical\"\n",
      "      }\n",
      "    ]\n",
      "  },\n",
      "  \"sentences_tone\": [\n",
      "    {\n",
      "      \"sentence_id\": 0,\n",
      "      \"text\": \"Team, I know that times are tough!\",\n",
      "      \"tones\": [\n",
      "        {\n",
      "          \"score\": 0.801827,\n",
      "          \"tone_id\": \"analytical\",\n",
      "          \"tone_name\": \"Analytical\"\n",
      "        }\n",
      "      ]\n",
      "    },\n",
      "    {\n",
      "      \"sentence_id\": 1,\n",
      "      \"text\": \"Product sales have been disappointing for the past three quarters.\",\n",
      "      \"tones\": [\n",
      "        {\n",
      "          \"score\": 0.771241,\n",
      "          \"tone_id\": \"sadness\",\n",
      "          \"tone_name\": \"Sadness\"\n",
      "        },\n",
      "        {\n",
      "          \"score\": 0.687768,\n",
      "          \"tone_id\": \"analytical\",\n",
      "          \"tone_name\": \"Analytical\"\n",
      "        }\n",
      "      ]\n",
      "    },\n",
      "    {\n",
      "      \"sentence_id\": 2,\n",
      "      \"text\": \"We have a competitive product, but we need to do a better job of selling it!\",\n",
      "      \"tones\": [\n",
      "        {\n",
      "          \"score\": 0.506763,\n",
      "          \"tone_id\": \"analytical\",\n",
      "          \"tone_name\": \"Analytical\"\n",
      "        }\n",
      "      ]\n",
      "    }\n",
      "  ]\n",
      "}\n"
     ]
    }
   ],
   "source": [
    "#source : https://cloud.ibm.com/apidocs/tone-analyzer?code=python\n",
    "\n",
    "apikey_ta = 'yWgqc9uLp_L9rtjDXr6P6IkZ27QFQCGQkfk2vLYITjSo'\n",
    "url_ta = 'https://api.eu-gb.tone-analyzer.watson.cloud.ibm.com/instances/f4faf141-c57c-4a08-a060-1c7d00f3743e'\n",
    "\n",
    "authenticator = IAMAuthenticator(apikey_ta) \n",
    "service = ibm_watson.ToneAnalyzerV3(version='2017-09-21', authenticator = authenticator)\n",
    "service.set_service_url(f'{url_ta}')\n",
    "\n",
    "'''\n",
    "Check every possible voices\n",
    "voices = service.list_voices().get_result()\n",
    "print(json.dumps(voices, indent=2))\n",
    "'''\n",
    "\n",
    "text = 'Team, I know that times are tough! Product '\\\n",
    "    'sales have been disappointing for the past three '\\\n",
    "    'quarters. We have a competitive product, but we '\\\n",
    "    'need to do a better job of selling it!'\n",
    "\n",
    "tone_analysis = service.tone(\n",
    "                    {'text': text},\n",
    "                    content_type='application/json'\n",
    "                ).get_result()\n",
    "print(json.dumps(tone_analysis, indent=2))"
   ]
  },
  {
   "cell_type": "markdown",
   "metadata": {},
   "source": [
    "## Watson Assistance"
   ]
  },
  {
   "cell_type": "code",
   "execution_count": 44,
   "metadata": {},
   "outputs": [
    {
     "name": "stdout",
     "output_type": "stream",
     "text": [
      "{\n",
      "  \"output\": {\n",
      "    \"generic\": [\n",
      "      {\n",
      "        \"response_type\": \"text\",\n",
      "        \"text\": \"Barang udah dikirim ya\"\n",
      "      }\n",
      "    ],\n",
      "    \"intents\": [\n",
      "      {\n",
      "        \"intent\": \"beli\",\n",
      "        \"confidence\": 1\n",
      "      }\n",
      "    ],\n",
      "    \"entities\": []\n",
      "  }\n",
      "}\n"
     ]
    }
   ],
   "source": [
    "#source : https://cloud.ibm.com/apidocs/assistant/assistant-v2?code=python#data-handling\n",
    "\n",
    "apikey_wa = 'CDeT6NGQ3OikPk5Hug5NLMoGsqmdbtk8tzHBdFDB9roe'\n",
    "url_wa = 'https://api.eu-gb.assistant.watson.cloud.ibm.com/instances/d5bf1369-474b-456d-9f45-45a2cd95a345/'\n",
    "wa_id = '68d89b0d-3f7b-4337-9fdd-f4ef74c688a3'\n",
    "\n",
    "authenticator = IAMAuthenticator(apikey_wa) \n",
    "service = ibm_watson.AssistantV2(version='2020-02-05', authenticator = authenticator)\n",
    "service.set_service_url(f'{url_wa}')\n",
    "\n",
    "sess = service.create_session(\n",
    "    assistant_id=f'{wa_id}'\n",
    ").get_result()['session_id']\n",
    "\n",
    "response = service.message(\n",
    "    assistant_id=f'{wa_id}',\n",
    "    session_id=f'{sess}',\n",
    "    input={\n",
    "        'message_type': 'text',\n",
    "        'text': 'Angkut gan'\n",
    "    }\n",
    ").get_result()\n",
    "\n",
    "print(json.dumps(response, indent=2))"
   ]
  },
  {
   "cell_type": "markdown",
   "metadata": {},
   "source": [
    "## Image Processing "
   ]
  },
  {
   "cell_type": "code",
   "execution_count": null,
   "metadata": {},
   "outputs": [],
   "source": []
  }
 ],
 "metadata": {
  "kernelspec": {
   "display_name": "Python 3",
   "language": "python",
   "name": "python3"
  },
  "language_info": {
   "codemirror_mode": {
    "name": "ipython",
    "version": 3
   },
   "file_extension": ".py",
   "mimetype": "text/x-python",
   "name": "python",
   "nbconvert_exporter": "python",
   "pygments_lexer": "ipython3",
   "version": "3.7.4"
  }
 },
 "nbformat": 4,
 "nbformat_minor": 2
}
