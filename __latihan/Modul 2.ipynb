{
 "cells": [
  {
   "cell_type": "markdown",
   "metadata": {},
   "source": [
    "# Modul 2\n",
    "## 2.1.1.7 - Print"
   ]
  },
  {
   "cell_type": "code",
   "execution_count": 1,
   "metadata": {},
   "outputs": [
    {
     "name": "stdout",
     "output_type": "stream",
     "text": [
      "Hello, Python!\n"
     ]
    }
   ],
   "source": [
    "# Sample Solution\n",
    "\n",
    "print(\"Hello, Python!\") #yg bener gini\n",
    "# print(\"Greg\")         #gini juga\n",
    "# print(Greg)           #Error, Greg dihitung sebagai variabel\n",
    "# print\"Greg\"           #Error, ga ada kurung\n",
    "# print('Greg')         #sip bisa pake petik satu\n",
    "# print(\"Greg\") print(\"Python\")   #Error, harus enter bambang. Ato pake titik koma"
   ]
  },
  {
   "cell_type": "markdown",
   "metadata": {},
   "source": [
    "## 2.1.1.10 - Print (2)\n",
    "bisa lebih dari satu baris (yaiyalah)"
   ]
  },
  {
   "cell_type": "code",
   "execution_count": 4,
   "metadata": {},
   "outputs": [
    {
     "name": "stdout",
     "output_type": "stream",
     "text": [
      "The itsy bitsy spider climbed up the waterspout.\n",
      "\n",
      "Down came the rain and washed the spider out.\n"
     ]
    }
   ],
   "source": [
    "print(\"The itsy bitsy spider climbed up the waterspout.\")\n",
    "print()\n",
    "print(\"Down came the rain and washed the spider out.\")"
   ]
  },
  {
   "cell_type": "markdown",
   "metadata": {},
   "source": [
    "**bisa juga pake \"\\n\"**\n"
   ]
  },
  {
   "cell_type": "code",
   "execution_count": 5,
   "metadata": {},
   "outputs": [
    {
     "name": "stdout",
     "output_type": "stream",
     "text": [
      "The itsy bitsy spider\n",
      "climbed up the waterspout.\n",
      "\n",
      "Down came the rain\n",
      "and washed the spider out.\n"
     ]
    }
   ],
   "source": [
    "print(\"The itsy bitsy spider\\nclimbed up the waterspout.\")\n",
    "print()\n",
    "print(\"Down came the rain\\nand washed the spider out.\")"
   ]
  },
  {
   "cell_type": "markdown",
   "metadata": {},
   "source": [
    "**Inget, karakter \"\\\" tuh spesial. kalo pengen ngetik itu, didobel jadi \"\\\\\"**"
   ]
  },
  {
   "cell_type": "code",
   "execution_count": 8,
   "metadata": {},
   "outputs": [
    {
     "name": "stdout",
     "output_type": "stream",
     "text": [
      "\\\n"
     ]
    }
   ],
   "source": [
    "#print(\"\\\") #ini eror\n",
    "print(\"\\\\\") #gini yg bener"
   ]
  },
  {
   "cell_type": "markdown",
   "metadata": {},
   "source": [
    "**dan bla bla bla. panjang banget materi print doang. Skip ya? hehe**"
   ]
  },
  {
   "cell_type": "markdown",
   "metadata": {},
   "source": [
    "**Oke ada lab nih **\n",
    "## 2.1.1.19\n",
    "\n",
    "**Scenario**\n",
    "\n",
    "Modify the first line of code in the editor, using the sep and end keywords, to match the expected output. Use the two print() functions in the editor.\n",
    "\n",
    "Don't change anything in the second print() invocation.\n",
    "\n",
    "**Expected output**\n",
    "\n",
    "`Programming***Essentials***in...Python`\n",
    "\n",
    "**code awal**\n",
    "print(\"Programming\",\"Essentials\",\"in\")\n",
    "print(\"Python\")"
   ]
  },
  {
   "cell_type": "code",
   "execution_count": 9,
   "metadata": {},
   "outputs": [
    {
     "name": "stdout",
     "output_type": "stream",
     "text": [
      "Programming***Essentials***in...Python\n"
     ]
    }
   ],
   "source": [
    "print(\"Programming\",\"Essentials\",\"in\", sep=\"***\", end=\"...\")\n",
    "print(\"Python\")"
   ]
  },
  {
   "cell_type": "markdown",
   "metadata": {},
   "source": [
    "Lab lagi\n",
    "## 2.1.1.20 \n",
    "\n",
    "Estimated time\n",
    "\n",
    "5-10 minutes\n",
    "Level of difficulty\n",
    "\n",
    "Easy\n",
    "**Objectives**\n",
    "* experimenting with existing Python code;\n",
    "* discovering and fixing basic syntax errors;\n",
    "* becoming familiar with the print() function and its formatting capabilities.\n",
    "\n",
    "**Scenario**\n",
    "\n",
    "We strongly encourage you to play with the code we've written for you, and make some (maybe even destructive) amendments. Feel free to modify any part of the code, but there is one condition - learn from your mistakes and draw your own conclusions.\n",
    "\n",
    "**Try to:**\n",
    "\n",
    "* minimize the number of print() function invocations by inserting the \\n sequence into the strings\n",
    "* make the arrow twice as large (but keep the proportions)\n",
    "* duplicate the arrow, placing both arrows side by side; note: a string may be multiplied by using the following trick: \"string\" * 2 will produce \"stringstring\" (we'll tell you more about it soon)\n",
    "* remove any of the quotes, and look carefully at Python's response; pay attention to where Python sees an error - is this the place where the error really exists?\n",
    "* do the same with some of the parentheses;\n",
    "* change any of the print words into something else, differing only in case (e.g., Print) - what happens now?\n",
    "* replace some of the quotes with apostrophes; watch what happens carefully.\n",
    "\n",
    "**code awal**\n",
    "```\n",
    "print(\"    *\")\n",
    "print(\"   * *\")\n",
    "print(\"  *   *\")\n",
    "print(\" *     *\")\n",
    "print(\"***   ***\")\n",
    "print(\"  *   *\")\n",
    "print(\"  *   *\")\n",
    "print(\"  *****\")\n",
    "```"
   ]
  },
  {
   "cell_type": "code",
   "execution_count": 15,
   "metadata": {},
   "outputs": [
    {
     "name": "stdout",
     "output_type": "stream",
     "text": [
      "    *\n",
      "   * *\n",
      "  *   *\n",
      " *     *\n",
      "***   ***\n",
      "  *   *\n",
      "  *   *\n",
      "  *****\n",
      "  *\n",
      " * *\n",
      "** **\n",
      " * *\n",
      " ***\n",
      "  *    *  \n",
      " * *  * * \n",
      "** **** **\n",
      " * *  * * \n",
      " ***  *** \n"
     ]
    }
   ],
   "source": [
    "#1\n",
    "print(\"    *\\n   * *\\n  *   *\\n *     *\\n***   ***\\n  *   *\\n  *   *\\n  *****\")\n",
    "#2\n",
    "print(\"  *\")\n",
    "print(\" * *\")\n",
    "print(\"** **\")\n",
    "print(\" * *\")\n",
    "print(\" ***\")\n",
    "#3\n",
    "print(\"  *  \"*2)\n",
    "print(\" * * \"*2)\n",
    "print(\"** **\"*2)\n",
    "print(\" * * \"*2)\n",
    "print(\" *** \"*2)"
   ]
  },
  {
   "cell_type": "code",
   "execution_count": 16,
   "metadata": {},
   "outputs": [
    {
     "name": "stdout",
     "output_type": "stream",
     "text": [
      "83\n",
      "291\n"
     ]
    }
   ],
   "source": [
    "## print auto-konvert octal atau hexa ke decimal\n",
    "print(0o123)\n",
    "print(0x123)"
   ]
  },
  {
   "cell_type": "code",
   "execution_count": 17,
   "metadata": {},
   "outputs": [
    {
     "data": {
      "text/plain": [
       "300000000.0"
      ]
     },
     "execution_count": 17,
     "metadata": {},
     "output_type": "execute_result"
    }
   ],
   "source": [
    "#bisa juga gini; e = dibaca exponent\n",
    "3e8"
   ]
  },
  {
   "cell_type": "code",
   "execution_count": 18,
   "metadata": {},
   "outputs": [
    {
     "name": "stdout",
     "output_type": "stream",
     "text": [
      "True\n",
      "False\n"
     ]
    }
   ],
   "source": [
    "# chalange pada boolean\n",
    "print(True > False) #sama aja kayak 1 > 0\n",
    "print(True < False) #yg ini 1 < 0"
   ]
  },
  {
   "cell_type": "markdown",
   "metadata": {},
   "source": [
    "## Lab 2.1.2.11\n",
    "\n",
    "Estimated time\n",
    "\n",
    "5 minutes\n",
    "Level of difficulty\n",
    "\n",
    "Easy\n",
    "Objectives\n",
    "\n",
    "    becoming familiar with the print() function and its formatting capabilities;\n",
    "    practicing coding strings;\n",
    "    experimenting with Python code.\n",
    "\n",
    "Scenario\n",
    "\n",
    "Write a one-line piece of code, using the print() function, as well as the newline and escape characters, to match the expected result outputted on three lines.\n",
    "Expected output\n",
    "\n",
    "\"I'm\"\n",
    "\"\"learning\"\"\n",
    "\"\"\"Python\"\"\""
   ]
  },
  {
   "cell_type": "code",
   "execution_count": 19,
   "metadata": {},
   "outputs": [
    {
     "name": "stdout",
     "output_type": "stream",
     "text": [
      "\"I'm\" \"\"learning\"\" \"\"\"Python\"\"\"\n"
     ]
    }
   ],
   "source": [
    "print('\"I\\'m\" \"\"learning\"\" \"\"\"Python\"\"\"')"
   ]
  },
  {
   "cell_type": "code",
   "execution_count": 20,
   "metadata": {},
   "outputs": [
    {
     "name": "stdout",
     "output_type": "stream",
     "text": [
      "8\n",
      "8.0\n",
      "8.0\n",
      "8.0\n"
     ]
    }
   ],
   "source": [
    "#Kalo salah satu float, hasilnya ikut float\n",
    "print(2 ** 3)\n",
    "print(2 ** 3.)\n",
    "print(2. ** 3)\n",
    "print(2. ** 3.)\n"
   ]
  },
  {
   "cell_type": "code",
   "execution_count": 21,
   "metadata": {},
   "outputs": [
    {
     "name": "stdout",
     "output_type": "stream",
     "text": [
      "2.0\n",
      "2.0\n",
      "2.0\n",
      "2.0\n"
     ]
    }
   ],
   "source": [
    "#kecuali pembagian. selalu float\n",
    "print(6 / 3)\n",
    "print(6 / 3.)\n",
    "print(6. / 3)\n",
    "print(6. / 3.)"
   ]
  },
  {
   "cell_type": "code",
   "execution_count": 22,
   "metadata": {},
   "outputs": [
    {
     "name": "stdout",
     "output_type": "stream",
     "text": [
      "1\n"
     ]
    }
   ],
   "source": [
    "print(9 % 6 % 2)"
   ]
  },
  {
   "cell_type": "code",
   "execution_count": null,
   "metadata": {},
   "outputs": [],
   "source": []
  }
 ],
 "metadata": {
  "kernelspec": {
   "display_name": "Python 3",
   "language": "python",
   "name": "python3"
  },
  "language_info": {
   "codemirror_mode": {
    "name": "ipython",
    "version": 3
   },
   "file_extension": ".py",
   "mimetype": "text/x-python",
   "name": "python",
   "nbconvert_exporter": "python",
   "pygments_lexer": "ipython3",
   "version": "3.7.1"
  }
 },
 "nbformat": 4,
 "nbformat_minor": 2
}
